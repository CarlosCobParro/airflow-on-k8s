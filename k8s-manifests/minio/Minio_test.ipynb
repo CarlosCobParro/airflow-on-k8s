{
 "cells": [
  {
   "cell_type": "code",
   "execution_count": 7,
   "metadata": {},
   "outputs": [],
   "source": [
    "import os\n",
    "from minio import Minio\n",
    "from dotenv import load_dotenv\n",
    "import glob\n",
    "import urllib3\n"
   ]
  },
  {
   "cell_type": "code",
   "execution_count": 8,
   "metadata": {},
   "outputs": [],
   "source": [
    "host = \"minio-cli.dashboard-siba.store\"\n",
    "\n",
    "access = \"ad4gd-user\"\n",
    "\n",
    "secret = \"ad4gd-password\""
   ]
  },
  {
   "cell_type": "code",
   "execution_count": 9,
   "metadata": {},
   "outputs": [],
   "source": [
    "_http = urllib3.PoolManager(\n",
    "        timeout=1,\n",
    "        maxsize=10,\n",
    "        retries=urllib3.Retry(\n",
    "            total=3,\n",
    "            backoff_factor=0.2,\n",
    "            status_forcelist=[500, 502, 503, 504]\n",
    "            )\n",
    "        )"
   ]
  },
  {
   "cell_type": "code",
   "execution_count": 10,
   "metadata": {},
   "outputs": [],
   "source": [
    "minioClient = Minio(host,access_key=access,secret_key=secret,secure=False,  http_client=_http, region='es')"
   ]
  },
  {
   "cell_type": "code",
   "execution_count": 11,
   "metadata": {},
   "outputs": [],
   "source": [
    "buckets = minioClient.list_buckets()"
   ]
  },
  {
   "cell_type": "code",
   "execution_count": null,
   "metadata": {},
   "outputs": [],
   "source": [
    "\n",
    "\n",
    "for bucket in buckets:\n",
    "\n",
    "    print(bucket.name, bucket.creation_date)"
   ]
  },
  {
   "cell_type": "code",
   "execution_count": null,
   "metadata": {},
   "outputs": [],
   "source": [
    "host = \"minio-cli.platform.flexigrobots-h2020.eu\"\n",
    "access = \"Pilot1-FlexiGroBotsH2020\"\n",
    "secret = \"!&MXsK30%3Aze1$\"\n",
    "\n",
    "connection_minio = Minio(host, access_key= access, secret_key=secret, secure=True)   "
   ]
  },
  {
   "cell_type": "code",
   "execution_count": null,
   "metadata": {},
   "outputs": [],
   "source": [
    "#Download file from bucket\n",
    "bucket_name = \"super-scenario-p1\"\n",
    "object_bucket = \"data/botrytis/clusters/20220908-botrytis-clusters.geojson\"\n",
    "file_path = \"/mnt/c/Users/a868775/Downloads/20220908-botrytis-clusters.geojson\"\n",
    "\n",
    "connection_minio.fget_object(bucket_name, object_bucket, file_path)"
   ]
  },
  {
   "cell_type": "code",
   "execution_count": null,
   "metadata": {},
   "outputs": [],
   "source": [
    "#Upload file to bucket\n",
    "bucket_name = \"super-scenario-p1\"\n",
    "file_path = \"/mnt/c/Users/a868775/Downloads/test.geojson\"\n",
    "object_bucket = \"data/botrytis/clusters/test.geojson\"\n",
    "\n",
    "connection_minio.fput_object(bucket_name, object_bucket, file_path)"
   ]
  },
  {
   "cell_type": "code",
   "execution_count": null,
   "metadata": {},
   "outputs": [],
   "source": []
  }
 ],
 "metadata": {
  "kernelspec": {
   "display_name": "Python 3",
   "language": "python",
   "name": "python3"
  },
  "language_info": {
   "codemirror_mode": {
    "name": "ipython",
    "version": 3
   },
   "file_extension": ".py",
   "mimetype": "text/x-python",
   "name": "python",
   "nbconvert_exporter": "python",
   "pygments_lexer": "ipython3",
   "version": "3.8.10"
  },
  "orig_nbformat": 4
 },
 "nbformat": 4,
 "nbformat_minor": 2
}
