{
 "cells": [
  {
   "cell_type": "markdown",
   "metadata": {},
   "source": [
    "## Libraries and dependencies"
   ]
  },
  {
   "cell_type": "code",
   "execution_count": null,
   "metadata": {},
   "outputs": [],
   "source": [
    "!pip3 mi"
   ]
  },
  {
   "cell_type": "code",
   "execution_count": 1,
   "metadata": {},
   "outputs": [],
   "source": [
    "import os\n",
    "from minio import Minio\n",
    "from dotenv import load_dotenv\n",
    "import glob\n"
   ]
  },
  {
   "cell_type": "markdown",
   "metadata": {},
   "source": [
    "## Class MinioConection"
   ]
  },
  {
   "cell_type": "markdown",
   "metadata": {},
   "source": [
    "MinIO is Object storage, so it is highly recommendable to use folders with files instead of .zip files or similar."
   ]
  },
  {
   "cell_type": "code",
   "execution_count": 2,
   "metadata": {},
   "outputs": [],
   "source": [
    "#https://min.io/docs/minio/linux/developers/python/API.html\n",
    "class minioConector:\n",
    "    def __init__(self):\n",
    "        load_dotenv()\n",
    "        self.host = os.getenv('MINIO_DOMAIN')\n",
    "        self.access = os.getenv('MINIO_ACCESS_KEY')\n",
    "        self.secret =os.getenv('MINIO_SECRET_KEY')\n",
    "        self.connection_with_minio = Minio(self.host,\n",
    "            access_key= self.access,\n",
    "            secret_key=self.secret, \n",
    "            secure=True)         \n",
    "\n",
    "\n",
    "    #Files management    \n",
    "\n",
    "\n",
    "    def uploadFiles(self, bucket_name, my_object_name, my_filename_path):\n",
    "        if bucket_name in self.listBuckets():\n",
    "            self.connection_with_minio.fput_object(bucket_name, my_object_name, my_filename_path)\n",
    "        else:\n",
    "            self.createBuckets(bucket_name)\n",
    "            self.connection_with_minio.fput_object(bucket_name, my_object_name, my_filename_path)\n",
    "\n",
    "    def uploadDirectory(self, local_path, bucket_name, minio_path):\n",
    "        assert os.path.isdir(local_path)\n",
    "\n",
    "        for local_file in glob.glob(local_path + '/**'):\n",
    "            local_file = local_file.replace(os.sep, \"/\") # Replace \\ with / on Windows\n",
    "\n",
    "            if not os.path.isfile(local_file):\n",
    "                self.uploadDirectory(local_file, bucket_name, minio_path + \"/\" + os.path.basename(local_file))\n",
    "            else:\n",
    "                remote_path = os.path.join(\n",
    "                    minio_path, local_file[1 + len(local_path):])\n",
    "                remote_path = remote_path.replace(os.sep, \"/\")  # Replace \\ with / on Windows\n",
    "                self.connection_with_minio.fput_object(bucket_name, remote_path, local_file)\n",
    "        \n",
    "\n",
    "    #Buckets management\n",
    "    def downloadBucket(self, bucket_name, file_path):\n",
    "        try:\n",
    "            for item in self.connection_with_minio.list_objects(bucket_name,  recursive=True):\n",
    "                self.connection_with_minio.fget_object(bucket_name, item.object_name, os.path.join(file_path,item.object_name))\n",
    "        except:\n",
    "            print(\"Object storage not reachable\")\n",
    "\n",
    "    def createBuckets(self, Bucket_name):\n",
    "        if self.existBuckets(Bucket_name) == True:\n",
    "            print(Bucket_name,\"bucket already exists\")\n",
    "        else:\n",
    "            self.connection_with_minio.make_bucket(Bucket_name)\n",
    "\n",
    "    def removeBuckets(self, Bucket_name):\n",
    "        if self.existBuckets(Bucket_name) == True:\n",
    "\n",
    "            objects = self.listObjects(Bucket_name)\n",
    "            if objects:\n",
    "                for obj in objects:\n",
    "                    print(obj.object_name)\n",
    "                    self.deleteOjects(Bucket_name, obj.object_name)\n",
    "                self.connection_with_minio.remove_bucket(Bucket_name)\n",
    "            else:\n",
    "                self.connection_with_minio.remove_bucket(Bucket_name)\n",
    "        else:\n",
    "            print(\"Not exist:\", Bucket_name) #Put assert instead print\n",
    "\n",
    "\n",
    "    def listBuckets(self):\n",
    "        return list(self.connection_with_minio.list_buckets())\n",
    "    \n",
    "\n",
    "    def existBuckets(self, Bucket_name):\n",
    "        if Bucket_name in self.listBuckets():\n",
    "            return True\n",
    "        else:\n",
    "            return False\n",
    "\n",
    "\n",
    "    #Object management\n",
    "    def listObjects(self, Bucket_name):\n",
    "        return self.connection_with_minio.list_objects(Bucket_name)\n",
    "        \n",
    "    def deleteObjects(self, Bucket_name, Object_name):\n",
    "        self.connection_with_minio.remove_object(Bucket_name, Object_name )\n"
   ]
  },
  {
   "cell_type": "code",
   "execution_count": 3,
   "metadata": {},
   "outputs": [
    {
     "name": "stdout",
     "output_type": "stream",
     "text": [
      "minio-cli.platform.flexigrobots-h2020.eu\n",
      "flexigrobot2020_Admin\n",
      "7*v67fhM9902^P5L5@Nl\n",
      "minio-cli.platform.flexigrobots-h2020.eu\n"
     ]
    }
   ],
   "source": [
    "Minio_object= minioConector()\n"
   ]
  },
  {
   "cell_type": "code",
   "execution_count": 4,
   "metadata": {},
   "outputs": [
    {
     "data": {
      "text/plain": [
       "[Bucket('atos-commonapplications-datasets'),\n",
       " Bucket('atos-demo-data'),\n",
       " Bucket('atos-demo-models'),\n",
       " Bucket('biosens-borovnice'),\n",
       " Bucket('blueberry-data'),\n",
       " Bucket('blueberry-results'),\n",
       " Bucket('borovnice-raw'),\n",
       " Bucket('commonapplications-demo-data'),\n",
       " Bucket('iot-ngin-demo'),\n",
       " Bucket('test-minio-cli'),\n",
       " Bucket('wp5-raw-data')]"
      ]
     },
     "execution_count": 4,
     "metadata": {},
     "output_type": "execute_result"
    }
   ],
   "source": [
    "Minio_object.listBuckets()"
   ]
  },
  {
   "cell_type": "markdown",
   "metadata": {},
   "source": [
    "Becarefull with createBuckets because if you have not permission the method does not run. \n",
    "Also, it is important that MinIO does not support special characters. "
   ]
  },
  {
   "cell_type": "code",
   "execution_count": 5,
   "metadata": {},
   "outputs": [
    {
     "ename": "S3Error",
     "evalue": "S3 operation failed; code: AuthorizationHeaderMalformed, message: The authorization header is malformed; the region is wrong; expecting 'es'., resource: /test-idsa, request_id: 172C4C9408AF5B8E, host_id: 52b1d5e4-2df4-44d3-bb6c-8ac0383f8384, bucket_name: test-idsa",
     "output_type": "error",
     "traceback": [
      "\u001b[0;31m---------------------------------------------------------------------------\u001b[0m",
      "\u001b[0;31mS3Error\u001b[0m                                   Traceback (most recent call last)",
      "\u001b[1;32m/mnt/c/Users/a868775/OneDrive - Atos/Escritorio/FLEXI-IDS/AI-platform/AI-platform/minio/Minio_lib.ipynb Celda 9\u001b[0m in \u001b[0;36m<cell line: 1>\u001b[0;34m()\u001b[0m\n\u001b[0;32m----> <a href='vscode-notebook-cell://wsl%2Bubuntu/mnt/c/Users/a868775/OneDrive%20-%20Atos/Escritorio/FLEXI-IDS/AI-platform/AI-platform/minio/Minio_lib.ipynb#X11sdnNjb2RlLXJlbW90ZQ%3D%3D?line=0'>1</a>\u001b[0m Minio_object\u001b[39m.\u001b[39;49mcreateBuckets(\u001b[39m\"\u001b[39;49m\u001b[39mtest-idsa\u001b[39;49m\u001b[39m\"\u001b[39;49m)\n",
      "\u001b[1;32m/mnt/c/Users/a868775/OneDrive - Atos/Escritorio/FLEXI-IDS/AI-platform/AI-platform/minio/Minio_lib.ipynb Celda 9\u001b[0m in \u001b[0;36mminioConector.createBuckets\u001b[0;34m(self, Bucket_name)\u001b[0m\n\u001b[1;32m     <a href='vscode-notebook-cell://wsl%2Bubuntu/mnt/c/Users/a868775/OneDrive%20-%20Atos/Escritorio/FLEXI-IDS/AI-platform/AI-platform/minio/Minio_lib.ipynb#X11sdnNjb2RlLXJlbW90ZQ%3D%3D?line=52'>53</a>\u001b[0m     \u001b[39mprint\u001b[39m(Bucket_name,\u001b[39m\"\u001b[39m\u001b[39mbucket already exists\u001b[39m\u001b[39m\"\u001b[39m)\n\u001b[1;32m     <a href='vscode-notebook-cell://wsl%2Bubuntu/mnt/c/Users/a868775/OneDrive%20-%20Atos/Escritorio/FLEXI-IDS/AI-platform/AI-platform/minio/Minio_lib.ipynb#X11sdnNjb2RlLXJlbW90ZQ%3D%3D?line=53'>54</a>\u001b[0m \u001b[39melse\u001b[39;00m:\n\u001b[0;32m---> <a href='vscode-notebook-cell://wsl%2Bubuntu/mnt/c/Users/a868775/OneDrive%20-%20Atos/Escritorio/FLEXI-IDS/AI-platform/AI-platform/minio/Minio_lib.ipynb#X11sdnNjb2RlLXJlbW90ZQ%3D%3D?line=54'>55</a>\u001b[0m     \u001b[39mself\u001b[39;49m\u001b[39m.\u001b[39;49mconnection_with_minio\u001b[39m.\u001b[39;49mmake_bucket(Bucket_name)\n",
      "File \u001b[0;32m~/.local/lib/python3.8/site-packages/minio/api.py:618\u001b[0m, in \u001b[0;36mMinio.make_bucket\u001b[0;34m(self, bucket_name, location, object_lock)\u001b[0m\n\u001b[1;32m    616\u001b[0m     SubElement(element, \u001b[39m\"\u001b[39m\u001b[39mLocationConstraint\u001b[39m\u001b[39m\"\u001b[39m, location)\n\u001b[1;32m    617\u001b[0m     body \u001b[39m=\u001b[39m getbytes(element)\n\u001b[0;32m--> 618\u001b[0m \u001b[39mself\u001b[39;49m\u001b[39m.\u001b[39;49m_url_open(\n\u001b[1;32m    619\u001b[0m     \u001b[39m\"\u001b[39;49m\u001b[39mPUT\u001b[39;49m\u001b[39m\"\u001b[39;49m,\n\u001b[1;32m    620\u001b[0m     location,\n\u001b[1;32m    621\u001b[0m     bucket_name\u001b[39m=\u001b[39;49mbucket_name,\n\u001b[1;32m    622\u001b[0m     body\u001b[39m=\u001b[39;49mbody,\n\u001b[1;32m    623\u001b[0m     headers\u001b[39m=\u001b[39;49mheaders,\n\u001b[1;32m    624\u001b[0m )\n\u001b[1;32m    625\u001b[0m \u001b[39mself\u001b[39m\u001b[39m.\u001b[39m_region_map[bucket_name] \u001b[39m=\u001b[39m location\n",
      "File \u001b[0;32m~/.local/lib/python3.8/site-packages/minio/api.py:386\u001b[0m, in \u001b[0;36mMinio._url_open\u001b[0;34m(self, method, region, bucket_name, object_name, body, headers, query_params, preload_content, no_body_trace)\u001b[0m\n\u001b[1;32m    383\u001b[0m \u001b[39mif\u001b[39;00m response_error\u001b[39m.\u001b[39mcode \u001b[39min\u001b[39;00m [\u001b[39m\"\u001b[39m\u001b[39mNoSuchBucket\u001b[39m\u001b[39m\"\u001b[39m, \u001b[39m\"\u001b[39m\u001b[39mRetryHead\u001b[39m\u001b[39m\"\u001b[39m]:\n\u001b[1;32m    384\u001b[0m     \u001b[39mself\u001b[39m\u001b[39m.\u001b[39m_region_map\u001b[39m.\u001b[39mpop(bucket_name, \u001b[39mNone\u001b[39;00m)\n\u001b[0;32m--> 386\u001b[0m \u001b[39mraise\u001b[39;00m response_error\n",
      "\u001b[0;31mS3Error\u001b[0m: S3 operation failed; code: AuthorizationHeaderMalformed, message: The authorization header is malformed; the region is wrong; expecting 'es'., resource: /test-idsa, request_id: 172C4C9408AF5B8E, host_id: 52b1d5e4-2df4-44d3-bb6c-8ac0383f8384, bucket_name: test-idsa"
     ]
    }
   ],
   "source": [
    "Minio_object.createBuckets(\"test-idsa\")"
   ]
  },
  {
   "cell_type": "code",
   "execution_count": 6,
   "metadata": {},
   "outputs": [
    {
     "data": {
      "text/plain": [
       "[Bucket('atos-commonapplications-datasets'),\n",
       " Bucket('atos-demo-data'),\n",
       " Bucket('atos-demo-models'),\n",
       " Bucket('biosens-borovnice'),\n",
       " Bucket('blueberry-data'),\n",
       " Bucket('blueberry-results'),\n",
       " Bucket('borovnice-raw'),\n",
       " Bucket('commonapplications-demo-data'),\n",
       " Bucket('iot-ngin-demo'),\n",
       " Bucket('test-minio-cli'),\n",
       " Bucket('wp5-raw-data')]"
      ]
     },
     "execution_count": 6,
     "metadata": {},
     "output_type": "execute_result"
    }
   ],
   "source": [
    "Minio_object.listBuckets()"
   ]
  },
  {
   "cell_type": "code",
   "execution_count": 7,
   "metadata": {},
   "outputs": [],
   "source": [
    "Minio_object.downloadBucket(\"commonapplications-demo-data\",\"./Data/test\")"
   ]
  },
  {
   "cell_type": "code",
   "execution_count": 8,
   "metadata": {},
   "outputs": [],
   "source": [
    "Minio_object.uploadDirectory(\"./Data/test\", \"test-idsa\", \"Data\")"
   ]
  },
  {
   "cell_type": "code",
   "execution_count": 19,
   "metadata": {},
   "outputs": [],
   "source": [
    "Minio_object.uploadFiles(\"test-idsa\",\"/explainer.dill\",\"./Data/test/explainer.dill\")"
   ]
  },
  {
   "cell_type": "code",
   "execution_count": null,
   "metadata": {},
   "outputs": [],
   "source": []
  }
 ],
 "metadata": {
  "kernelspec": {
   "display_name": "Python 3.8.10 64-bit",
   "language": "python",
   "name": "python3"
  },
  "language_info": {
   "codemirror_mode": {
    "name": "ipython",
    "version": 3
   },
   "file_extension": ".py",
   "mimetype": "text/x-python",
   "name": "python",
   "nbconvert_exporter": "python",
   "pygments_lexer": "ipython3",
   "version": "3.8.10"
  },
  "orig_nbformat": 4,
  "vscode": {
   "interpreter": {
    "hash": "916dbcbb3f70747c44a77c7bcd40155683ae19c65e1c03b4aa3499c5328201f1"
   }
  }
 },
 "nbformat": 4,
 "nbformat_minor": 2
}
